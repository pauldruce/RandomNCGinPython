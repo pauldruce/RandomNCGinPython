{
 "cells": [
  {
   "cell_type": "code",
   "execution_count": 1,
   "metadata": {},
   "outputs": [
    {
     "name": "stdout",
     "output_type": "stream",
     "text": [
      "My type is: (1,3)\n",
      "\n",
      "My matrices will be 4x4, and I have K0 dimension s = 2\n",
      "The generators are:\n",
      "Gamma_0 = \n",
      "[[ 0.+0.j  0.+0.j  1.+0.j  0.+0.j]\n",
      " [ 0.+0.j -0.+0.j  0.+0.j -1.+0.j]\n",
      " [ 1.+0.j  0.+0.j  0.+0.j  0.+0.j]\n",
      " [ 0.+0.j -1.+0.j  0.+0.j -0.+0.j]]\n",
      "Gamma_1 = \n",
      "[[0.+1.j 0.+0.j 0.+0.j 0.+0.j]\n",
      " [0.+0.j 0.+1.j 0.+0.j 0.+0.j]\n",
      " [0.+0.j 0.+0.j 0.-1.j 0.+0.j]\n",
      " [0.+0.j 0.+0.j 0.+0.j 0.-1.j]]\n",
      "Gamma_2 = \n",
      "[[ 0.+0.j  0.+0.j  1.+0.j  0.+0.j]\n",
      " [ 0.+0.j  0.+0.j  0.+0.j  1.+0.j]\n",
      " [-1.+0.j -0.+0.j  0.+0.j  0.+0.j]\n",
      " [-0.+0.j -1.+0.j  0.+0.j  0.+0.j]]\n",
      "Gamma_3 = \n",
      "[[ 0.+0.j  0.+0.j  0.+0.j  1.+0.j]\n",
      " [-0.+0.j  0.+0.j -1.+0.j  0.+0.j]\n",
      " [ 0.+0.j  1.+0.j  0.+0.j  0.+0.j]\n",
      " [-1.+0.j  0.+0.j -0.+0.j  0.+0.j]]\n",
      "\n",
      "\n",
      "The chirality operator is:\n",
      "[[0.+0.j 0.+0.j 0.+0.j 1.+0.j]\n",
      " [0.+0.j 0.+0.j 1.+0.j 0.+0.j]\n",
      " [0.+0.j 1.+0.j 0.+0.j 0.+0.j]\n",
      " [1.+0.j 0.+0.j 0.+0.j 0.+0.j]]\n"
     ]
    }
   ],
   "source": [
    "import itertools\n",
    "import time\n",
    "from CliffordAlgebras import Clifford\n",
    "import DiracOperator\n",
    "import numba_DiracOperator\n",
    "import numpy as np\n",
    "import numba\n",
    "from numba import jit, njit\n",
    "# Some dummy parameters for use when testing:\n",
    "p = 1\n",
    "q = 3\n",
    "N = 5\n",
    "g2 = -3.7\n",
    "g4 = 1\n",
    "# Get the clifford algebra for the model we are examining.\n",
    "cliff = Clifford(p, q)\n",
    "cliff.introduce()\n",
    "odd_products = cliff.get_odd_gamma_products()"
   ]
  },
  {
   "cell_type": "code",
   "execution_count": 2,
   "metadata": {},
   "outputs": [],
   "source": [
    "odd_products = np.ascontiguousarray(odd_products)"
   ]
  },
  {
   "cell_type": "code",
   "execution_count": 3,
   "metadata": {},
   "outputs": [],
   "source": [
    "odd_products = odd_products.T"
   ]
  },
  {
   "cell_type": "code",
   "execution_count": 4,
   "metadata": {},
   "outputs": [
    {
     "name": "stdout",
     "output_type": "stream",
     "text": [
      "array(complex128, 2d, A)\n",
      "array(complex128, 2d, A)\n",
      "array(complex128, 2d, A)\n",
      "array(complex128, 2d, A)\n"
     ]
    }
   ],
   "source": [
    "for prod in odd_products:\n",
    "    print(numba.typeof(prod))"
   ]
  },
  {
   "cell_type": "markdown",
   "metadata": {},
   "source": [
    "There are some import hyperparameters for the Metropolis-Hastings algorithm. Specifically,\n",
    "in our implementation, the variable weightA is important, which is the step size between Dirac operators.\n",
    "WeightA to be very small, so that the steps between Diracs is relatively small. There is a balance between having a small enough step size so that many Diracs are accepted and we \"follow the valley downwards\" and having a large enough step size so that we can escape local minima.\n",
    "\n",
    "This value will change for each type, it seems to be a hyperparameter of this setup, i.e. requires tuning. weightA values for the types that give acceptance_rate/num_moves ~50% (this is what I understand to be a good thing to achieve)\n",
    "\n",
    "(2,0) -> 1./np.power(cliff.matdim,3)/25\n",
    "(1,3) -> 1./e-2/6 for size 10x10 - takes 30mins to do 40,000 moves."
   ]
  },
  {
   "cell_type": "code",
   "execution_count": 5,
   "metadata": {},
   "outputs": [
    {
     "ename": "UnboundLocalError",
     "evalue": "local variable 'Dtemp' referenced before assignment",
     "output_type": "error",
     "traceback": [
      "\u001b[0;31m---------------------------------------------------------------------------\u001b[0m",
      "\u001b[0;31mUnboundLocalError\u001b[0m                         Traceback (most recent call last)",
      "\u001b[0;32m<ipython-input-5-c4437a04c203>\u001b[0m in \u001b[0;36m<module>\u001b[0;34m\u001b[0m\n\u001b[1;32m      3\u001b[0m \u001b[0mweightA\u001b[0m \u001b[0;34m=\u001b[0m \u001b[0;36m1\u001b[0m \u001b[0;34m/\u001b[0m \u001b[0;36m10\u001b[0m  \u001b[0;31m# If we use too large a value here, then the proposed starting Dirac causes the weight action to have a large imaginary component. So start with it ~1\u001b[0m\u001b[0;34m\u001b[0m\u001b[0;34m\u001b[0m\u001b[0m\n\u001b[1;32m      4\u001b[0m \u001b[0mmatdim\u001b[0m \u001b[0;34m=\u001b[0m \u001b[0mcliff\u001b[0m\u001b[0;34m.\u001b[0m\u001b[0mmatdim\u001b[0m\u001b[0;34m\u001b[0m\u001b[0;34m\u001b[0m\u001b[0m\n\u001b[0;32m----> 5\u001b[0;31m \u001b[0mD\u001b[0m \u001b[0;34m=\u001b[0m \u001b[0mDiracOperator\u001b[0m\u001b[0;34m.\u001b[0m\u001b[0mrandom_Dirac_op\u001b[0m\u001b[0;34m(\u001b[0m\u001b[0modd_products\u001b[0m\u001b[0;34m,\u001b[0m \u001b[0mN\u001b[0m\u001b[0;34m,\u001b[0m \u001b[0mweightA\u001b[0m\u001b[0;34m,\u001b[0m \u001b[0mcliff\u001b[0m\u001b[0;34m.\u001b[0m\u001b[0mmatdim\u001b[0m\u001b[0;34m)\u001b[0m\u001b[0;34m\u001b[0m\u001b[0;34m\u001b[0m\u001b[0m\n\u001b[0m\u001b[1;32m      6\u001b[0m \u001b[0;31m# D = D1\u001b[0m\u001b[0;34m\u001b[0m\u001b[0;34m\u001b[0m\u001b[0;34m\u001b[0m\u001b[0m\n\u001b[1;32m      7\u001b[0m \u001b[0;34m\u001b[0m\u001b[0m\n",
      "\u001b[0;32m~/Documents/GitHub/RandomNCGinPython/DiracOperator.py\u001b[0m in \u001b[0;36mrandom_Dirac_op\u001b[0;34m(odd_products, N, weightA, matdim)\u001b[0m\n\u001b[1;32m     80\u001b[0m         \u001b[0;32melif\u001b[0m \u001b[0mnp\u001b[0m\u001b[0;34m.\u001b[0m\u001b[0marray_equal\u001b[0m\u001b[0;34m(\u001b[0m\u001b[0mprod\u001b[0m\u001b[0;34m.\u001b[0m\u001b[0mconj\u001b[0m\u001b[0;34m(\u001b[0m\u001b[0;34m)\u001b[0m\u001b[0;34m.\u001b[0m\u001b[0mT\u001b[0m\u001b[0;34m,\u001b[0m \u001b[0;34m-\u001b[0m\u001b[0;36m1\u001b[0m \u001b[0;34m*\u001b[0m \u001b[0mprod\u001b[0m\u001b[0;34m)\u001b[0m \u001b[0;34m==\u001b[0m \u001b[0;32mTrue\u001b[0m\u001b[0;34m:\u001b[0m\u001b[0;34m\u001b[0m\u001b[0;34m\u001b[0m\u001b[0m\n\u001b[1;32m     81\u001b[0m             \u001b[0mDtemp\u001b[0m \u001b[0;34m=\u001b[0m \u001b[0mcomm\u001b[0m\u001b[0;34m(\u001b[0m\u001b[0mstep_size\u001b[0m \u001b[0;34m*\u001b[0m \u001b[0mcomplex\u001b[0m\u001b[0;34m(\u001b[0m\u001b[0;36m0\u001b[0m\u001b[0;34m,\u001b[0m \u001b[0;36m1\u001b[0m\u001b[0;34m)\u001b[0m \u001b[0;34m*\u001b[0m \u001b[0mtemp\u001b[0m\u001b[0;34m)\u001b[0m\u001b[0;34m\u001b[0m\u001b[0;34m\u001b[0m\u001b[0m\n\u001b[0;32m---> 82\u001b[0;31m         \u001b[0mDtemp2\u001b[0m \u001b[0;34m=\u001b[0m \u001b[0mnp\u001b[0m\u001b[0;34m.\u001b[0m\u001b[0mkron\u001b[0m\u001b[0;34m(\u001b[0m\u001b[0mprod\u001b[0m\u001b[0;34m,\u001b[0m \u001b[0mDtemp\u001b[0m\u001b[0;34m)\u001b[0m\u001b[0;34m\u001b[0m\u001b[0;34m\u001b[0m\u001b[0m\n\u001b[0m\u001b[1;32m     83\u001b[0m         \u001b[0mD\u001b[0m \u001b[0;34m=\u001b[0m \u001b[0mD\u001b[0m \u001b[0;34m+\u001b[0m \u001b[0mDtemp2\u001b[0m\u001b[0;34m\u001b[0m\u001b[0;34m\u001b[0m\u001b[0m\n\u001b[1;32m     84\u001b[0m     \u001b[0;32mreturn\u001b[0m \u001b[0mD\u001b[0m\u001b[0;34m\u001b[0m\u001b[0;34m\u001b[0m\u001b[0m\n",
      "\u001b[0;31mUnboundLocalError\u001b[0m: local variable 'Dtemp' referenced before assignment"
     ]
    }
   ],
   "source": [
    "# Initialise D: we set the weight A so we start with a much wide range of the parameter space\n",
    "\n",
    "weightA = 1 / 10  # If we use too large a value here, then the proposed starting Dirac causes the weight action to have a large imaginary component. So start with it ~1\n",
    "matdim = cliff.matdim\n",
    "D = DiracOperator.random_Dirac_op(odd_products, N, weightA, cliff.matdim)\n",
    "# D = D1\n",
    "\n",
    "\n",
    "def runMonteCarlo(odd_products, D, g2, g4, matdim):\n",
    "    weightA = 1e-2 / 7\n",
    "    num_moves = 0\n",
    "    acceptance_rate = 0\n",
    "    epochs = 10\n",
    "    chain_length = 1000\n",
    "    for i in range(epochs):\n",
    "        for j in range(chain_length):\n",
    "            D, acceptance_rate = DiracOperator.update_Dirac(\n",
    "                D, g2, g4, weightA, acceptance_rate, N, matdim, odd_products)\n",
    "            num_moves += 1\n",
    "        # Every 1000s steps, we investigate a little. We print the accepted rate and the action of the Dirac at this moment.\n",
    "        print(acceptance_rate, num_moves, acceptance_rate / num_moves)\n",
    "        print(DiracOperator.action(D, g2, g4))\n",
    "        # np.linalg.eigvals(D)\n",
    "\n"
   ]
  },
  {
   "cell_type": "code",
   "execution_count": 6,
   "metadata": {},
   "outputs": [
    {
     "ename": "TypingError",
     "evalue": "Failed in nopython mode pipeline (step: nopython frontend)\nNo implementation of function Function(<function kron at 0x103e35c20>) found for signature:\n \n >>> kron(array(complex128, 2d, A), array(complex128, 2d, C))\n \nThere are 2 candidate implementations:\n   - Of which 2 did not match due to:\n   Overload in function 'kron_impl': File: numba/np/linalg.py: Line 2729.\n     With argument(s): '(array(complex128, 2d, A), array(complex128, 2d, C))':\n    Rejected as the implementation raised a specific error:\n      TypingError: np.linalg.kron only supports 'C' or 'F' layout input arrays. Receieved an input of layout 'A'.\n  raised from /Users/pauldruce/.pyenv/versions/3.7.7/lib/python3.7/site-packages/numba/np/linalg.py:2672\n\nDuring: resolving callee type: Function(<function kron at 0x103e35c20>)\nDuring: typing of call at /Users/pauldruce/Documents/GitHub/RandomNCGinPython/numba_DiracOperator.py (89)\n\n\nFile \"numba_DiracOperator.py\", line 89:\ndef random_Dirac_op(odd_products, N, weightA, matdim):\n    <source elided>\n            Dtemp = comm(step_size * complex(0, 1) * temp)\n        Dtemp2 = np.kron(prod, Dtemp)\n        ^\n",
     "output_type": "error",
     "traceback": [
      "\u001b[0;31m---------------------------------------------------------------------------\u001b[0m",
      "\u001b[0;31mTypingError\u001b[0m                               Traceback (most recent call last)",
      "\u001b[0;32m<ipython-input-6-44b9ff6b5f9a>\u001b[0m in \u001b[0;36m<module>\u001b[0;34m\u001b[0m\n\u001b[0;32m----> 1\u001b[0;31m \u001b[0mD\u001b[0m \u001b[0;34m=\u001b[0m \u001b[0mnumba_DiracOperator\u001b[0m\u001b[0;34m.\u001b[0m\u001b[0mrandom_Dirac_op\u001b[0m\u001b[0;34m(\u001b[0m\u001b[0modd_products\u001b[0m\u001b[0;34m,\u001b[0m \u001b[0mN\u001b[0m\u001b[0;34m,\u001b[0m \u001b[0mweightA\u001b[0m\u001b[0;34m,\u001b[0m \u001b[0mcliff\u001b[0m\u001b[0;34m.\u001b[0m\u001b[0mmatdim\u001b[0m\u001b[0;34m)\u001b[0m\u001b[0;34m\u001b[0m\u001b[0;34m\u001b[0m\u001b[0m\n\u001b[0m\u001b[1;32m      2\u001b[0m \u001b[0;34m@\u001b[0m\u001b[0mnjit\u001b[0m\u001b[0;34m(\u001b[0m\u001b[0;34m)\u001b[0m\u001b[0;34m\u001b[0m\u001b[0;34m\u001b[0m\u001b[0m\n\u001b[1;32m      3\u001b[0m \u001b[0;32mdef\u001b[0m \u001b[0mnumba_runMonteCarlo\u001b[0m\u001b[0;34m(\u001b[0m\u001b[0modd_products\u001b[0m\u001b[0;34m,\u001b[0m \u001b[0mD\u001b[0m\u001b[0;34m,\u001b[0m \u001b[0mg2\u001b[0m\u001b[0;34m,\u001b[0m \u001b[0mg4\u001b[0m\u001b[0;34m,\u001b[0m \u001b[0mmatdim\u001b[0m\u001b[0;34m)\u001b[0m\u001b[0;34m:\u001b[0m\u001b[0;34m\u001b[0m\u001b[0;34m\u001b[0m\u001b[0m\n\u001b[1;32m      4\u001b[0m     \u001b[0mweightA\u001b[0m \u001b[0;34m=\u001b[0m \u001b[0;36m1e-2\u001b[0m \u001b[0;34m/\u001b[0m \u001b[0;36m7\u001b[0m\u001b[0;34m\u001b[0m\u001b[0;34m\u001b[0m\u001b[0m\n\u001b[1;32m      5\u001b[0m     \u001b[0mnum_moves\u001b[0m \u001b[0;34m=\u001b[0m \u001b[0;36m0\u001b[0m\u001b[0;34m\u001b[0m\u001b[0;34m\u001b[0m\u001b[0m\n",
      "\u001b[0;32m~/.pyenv/versions/3.7.7/lib/python3.7/site-packages/numba/core/dispatcher.py\u001b[0m in \u001b[0;36m_compile_for_args\u001b[0;34m(self, *args, **kws)\u001b[0m\n\u001b[1;32m    413\u001b[0m                 \u001b[0me\u001b[0m\u001b[0;34m.\u001b[0m\u001b[0mpatch_message\u001b[0m\u001b[0;34m(\u001b[0m\u001b[0mmsg\u001b[0m\u001b[0;34m)\u001b[0m\u001b[0;34m\u001b[0m\u001b[0;34m\u001b[0m\u001b[0m\n\u001b[1;32m    414\u001b[0m \u001b[0;34m\u001b[0m\u001b[0m\n\u001b[0;32m--> 415\u001b[0;31m             \u001b[0merror_rewrite\u001b[0m\u001b[0;34m(\u001b[0m\u001b[0me\u001b[0m\u001b[0;34m,\u001b[0m \u001b[0;34m'typing'\u001b[0m\u001b[0;34m)\u001b[0m\u001b[0;34m\u001b[0m\u001b[0;34m\u001b[0m\u001b[0m\n\u001b[0m\u001b[1;32m    416\u001b[0m         \u001b[0;32mexcept\u001b[0m \u001b[0merrors\u001b[0m\u001b[0;34m.\u001b[0m\u001b[0mUnsupportedError\u001b[0m \u001b[0;32mas\u001b[0m \u001b[0me\u001b[0m\u001b[0;34m:\u001b[0m\u001b[0;34m\u001b[0m\u001b[0;34m\u001b[0m\u001b[0m\n\u001b[1;32m    417\u001b[0m             \u001b[0;31m# Something unsupported is present in the user code, add help info\u001b[0m\u001b[0;34m\u001b[0m\u001b[0;34m\u001b[0m\u001b[0;34m\u001b[0m\u001b[0m\n",
      "\u001b[0;32m~/.pyenv/versions/3.7.7/lib/python3.7/site-packages/numba/core/dispatcher.py\u001b[0m in \u001b[0;36merror_rewrite\u001b[0;34m(e, issue_type)\u001b[0m\n\u001b[1;32m    356\u001b[0m                 \u001b[0;32mraise\u001b[0m \u001b[0me\u001b[0m\u001b[0;34m\u001b[0m\u001b[0;34m\u001b[0m\u001b[0m\n\u001b[1;32m    357\u001b[0m             \u001b[0;32melse\u001b[0m\u001b[0;34m:\u001b[0m\u001b[0;34m\u001b[0m\u001b[0;34m\u001b[0m\u001b[0m\n\u001b[0;32m--> 358\u001b[0;31m                 \u001b[0mreraise\u001b[0m\u001b[0;34m(\u001b[0m\u001b[0mtype\u001b[0m\u001b[0;34m(\u001b[0m\u001b[0me\u001b[0m\u001b[0;34m)\u001b[0m\u001b[0;34m,\u001b[0m \u001b[0me\u001b[0m\u001b[0;34m,\u001b[0m \u001b[0;32mNone\u001b[0m\u001b[0;34m)\u001b[0m\u001b[0;34m\u001b[0m\u001b[0;34m\u001b[0m\u001b[0m\n\u001b[0m\u001b[1;32m    359\u001b[0m \u001b[0;34m\u001b[0m\u001b[0m\n\u001b[1;32m    360\u001b[0m         \u001b[0margtypes\u001b[0m \u001b[0;34m=\u001b[0m \u001b[0;34m[\u001b[0m\u001b[0;34m]\u001b[0m\u001b[0;34m\u001b[0m\u001b[0;34m\u001b[0m\u001b[0m\n",
      "\u001b[0;32m~/.pyenv/versions/3.7.7/lib/python3.7/site-packages/numba/core/utils.py\u001b[0m in \u001b[0;36mreraise\u001b[0;34m(tp, value, tb)\u001b[0m\n\u001b[1;32m     78\u001b[0m         \u001b[0mvalue\u001b[0m \u001b[0;34m=\u001b[0m \u001b[0mtp\u001b[0m\u001b[0;34m(\u001b[0m\u001b[0;34m)\u001b[0m\u001b[0;34m\u001b[0m\u001b[0;34m\u001b[0m\u001b[0m\n\u001b[1;32m     79\u001b[0m     \u001b[0;32mif\u001b[0m \u001b[0mvalue\u001b[0m\u001b[0;34m.\u001b[0m\u001b[0m__traceback__\u001b[0m \u001b[0;32mis\u001b[0m \u001b[0;32mnot\u001b[0m \u001b[0mtb\u001b[0m\u001b[0;34m:\u001b[0m\u001b[0;34m\u001b[0m\u001b[0;34m\u001b[0m\u001b[0m\n\u001b[0;32m---> 80\u001b[0;31m         \u001b[0;32mraise\u001b[0m \u001b[0mvalue\u001b[0m\u001b[0;34m.\u001b[0m\u001b[0mwith_traceback\u001b[0m\u001b[0;34m(\u001b[0m\u001b[0mtb\u001b[0m\u001b[0;34m)\u001b[0m\u001b[0;34m\u001b[0m\u001b[0;34m\u001b[0m\u001b[0m\n\u001b[0m\u001b[1;32m     81\u001b[0m     \u001b[0;32mraise\u001b[0m \u001b[0mvalue\u001b[0m\u001b[0;34m\u001b[0m\u001b[0;34m\u001b[0m\u001b[0m\n\u001b[1;32m     82\u001b[0m \u001b[0;34m\u001b[0m\u001b[0m\n",
      "\u001b[0;31mTypingError\u001b[0m: Failed in nopython mode pipeline (step: nopython frontend)\nNo implementation of function Function(<function kron at 0x103e35c20>) found for signature:\n \n >>> kron(array(complex128, 2d, A), array(complex128, 2d, C))\n \nThere are 2 candidate implementations:\n   - Of which 2 did not match due to:\n   Overload in function 'kron_impl': File: numba/np/linalg.py: Line 2729.\n     With argument(s): '(array(complex128, 2d, A), array(complex128, 2d, C))':\n    Rejected as the implementation raised a specific error:\n      TypingError: np.linalg.kron only supports 'C' or 'F' layout input arrays. Receieved an input of layout 'A'.\n  raised from /Users/pauldruce/.pyenv/versions/3.7.7/lib/python3.7/site-packages/numba/np/linalg.py:2672\n\nDuring: resolving callee type: Function(<function kron at 0x103e35c20>)\nDuring: typing of call at /Users/pauldruce/Documents/GitHub/RandomNCGinPython/numba_DiracOperator.py (89)\n\n\nFile \"numba_DiracOperator.py\", line 89:\ndef random_Dirac_op(odd_products, N, weightA, matdim):\n    <source elided>\n            Dtemp = comm(step_size * complex(0, 1) * temp)\n        Dtemp2 = np.kron(prod, Dtemp)\n        ^\n"
     ]
    }
   ],
   "source": [
    "D = numba_DiracOperator.random_Dirac_op(odd_products, N, weightA, cliff.matdim)\n",
    "@njit()      \n",
    "def numba_runMonteCarlo(odd_products, D, g2, g4, matdim):\n",
    "    weightA = 1e-2 / 7\n",
    "    num_moves = 0\n",
    "    acceptance_rate = 0\n",
    "    epochs = 10\n",
    "    chain_length = 1000\n",
    "    for i in range(epochs):\n",
    "        for j in range(chain_length):\n",
    "            D, acceptance_rate = numba_DiracOperator.update_Dirac(\n",
    "                D, g2, g4, weightA, acceptance_rate, N, matdim, odd_products)\n",
    "            num_moves += 1\n",
    "        # Every 1000s steps, we investigate a little. We print the accepted rate and the action of the Dirac at this moment.\n",
    "        print(acceptance_rate, num_moves, acceptance_rate / num_moves)\n",
    "        print(numba_DiracOperator.action(D, g2, g4))\n",
    "        # np.linalg.eigvals(D)\n"
   ]
  },
  {
   "cell_type": "code",
   "execution_count": null,
   "metadata": {},
   "outputs": [],
   "source": [
    "\"\"\"\n",
    "It would be helpful to store the last Dirac, so we can \"continue\" the simulation after it reaches 20,0000 steps. For instance, for the type (1,3), 20,000 steps doesnt seem to be enough. 40,0000 seems to settle in a well.\n",
    "But to have the thermalisation time be ~1%, then we need to continue the simulation for much longer than that.\n",
    "\"\"\"\n",
    "\n",
    "# We can then \"initialise\" the Dirac with the last Dirac operator from the simulation if we want to continnue the simulation.\n",
    "D1 = D"
   ]
  },
  {
   "cell_type": "code",
   "execution_count": 7,
   "metadata": {},
   "outputs": [
    {
     "name": "stdout",
     "output_type": "stream",
     "text": [
      "778 1000 0.778\n",
      "-153.1408222179947\n",
      "1738 2000 0.869\n",
      "-162.61195783746854\n",
      "2687 3000 0.8956666666666667\n",
      "-163.02613713281525\n",
      "3634 4000 0.9085\n",
      "-163.11108521848996\n",
      "4573 5000 0.9146\n",
      "-161.1350546679376\n",
      "5519 6000 0.9198333333333333\n",
      "-157.67950610551105\n",
      "6455 7000 0.9221428571428572\n",
      "-157.48070057510958\n",
      "7406 8000 0.92575\n",
      "-161.42429920827348\n",
      "8340 9000 0.9266666666666666\n",
      "-161.54910990958157\n",
      "9284 10000 0.9284\n",
      "-161.6646186058401\n",
      "CPU times: user 28.7 s, sys: 402 ms, total: 29.1 s\n",
      "Wall time: 29.1 s\n"
     ]
    }
   ],
   "source": [
    "# Test it works and see how long it takes\n",
    "\n",
    "%time runMonteCarlo(odd_products, D, g2, g4, matdim)"
   ]
  },
  {
   "cell_type": "code",
   "execution_count": 5,
   "metadata": {},
   "outputs": [
    {
     "ename": "TypingError",
     "evalue": "Failed in nopython mode pipeline (step: nopython frontend)\nFailed in nopython mode pipeline (step: nopython frontend)\nFailed in nopython mode pipeline (step: nopython frontend)\nNo implementation of function Function(<function kron at 0x1059ffc20>) found for signature:\n \n >>> kron(array(complex128, 2d, A), array(complex128, 2d, C))\n \nThere are 2 candidate implementations:\n   - Of which 2 did not match due to:\n   Overload in function 'kron_impl': File: numba/np/linalg.py: Line 2729.\n     With argument(s): '(array(complex128, 2d, A), array(complex128, 2d, C))':\n    Rejected as the implementation raised a specific error:\n      TypingError: np.linalg.kron only supports 'C' or 'F' layout input arrays. Receieved an input of layout 'A'.\n  raised from /Users/pauldruce/.pyenv/versions/3.7.7/lib/python3.7/site-packages/numba/np/linalg.py:2672\n\nDuring: resolving callee type: Function(<function kron at 0x1059ffc20>)\nDuring: typing of call at /Users/pauldruce/Documents/GitHub/RandomNCGinPython/numba_DiracOperator.py (89)\n\n\nFile \"numba_DiracOperator.py\", line 89:\ndef random_Dirac_op(odd_products, N, weightA, matdim):\n    <source elided>\n            Dtemp = comm(step_size * complex(0, 1) * temp)\n        Dtemp2 = np.kron(prod, Dtemp)\n        ^\n\nDuring: resolving callee type: type(CPUDispatcher(<function random_Dirac_op at 0x11f9df560>))\nDuring: typing of call at /Users/pauldruce/Documents/GitHub/RandomNCGinPython/numba_DiracOperator.py (129)\n\nDuring: resolving callee type: type(CPUDispatcher(<function random_Dirac_op at 0x11f9df560>))\nDuring: typing of call at /Users/pauldruce/Documents/GitHub/RandomNCGinPython/numba_DiracOperator.py (129)\n\n\nFile \"numba_DiracOperator.py\", line 129:\ndef update_Dirac(old_D, g2, g4, weightA, acceptance_rate, N, matdim, odd_products):\n    <source elided>\n    S_old = action(old_D, g2, g4)\n    D = random_Dirac_op(odd_products, N, weightA, matdim)\n    ^\n\nDuring: resolving callee type: type(CPUDispatcher(<function update_Dirac at 0x11f9dfb00>))\nDuring: typing of call at <ipython-input-4-6fb846ab0e05> (35)\n\nDuring: resolving callee type: type(CPUDispatcher(<function update_Dirac at 0x11f9dfb00>))\nDuring: typing of call at <ipython-input-4-6fb846ab0e05> (35)\n\nDuring: resolving callee type: type(CPUDispatcher(<function update_Dirac at 0x11f9dfb00>))\nDuring: typing of call at <ipython-input-4-6fb846ab0e05> (35)\n\nDuring: resolving callee type: type(CPUDispatcher(<function update_Dirac at 0x11f9dfb00>))\nDuring: typing of call at <ipython-input-4-6fb846ab0e05> (35)\n\n\nFile \"<ipython-input-4-6fb846ab0e05>\", line 35:\ndef numba_runMonteCarlo(odd_products, D, g2, g4, matdim):\n    <source elided>\n            D, acceptance_rate = numba_DiracOperator.update_Dirac(\n                D, g2, g4, weightA, acceptance_rate, N, matdim, odd_products)\n                ^\n",
     "output_type": "error",
     "traceback": [
      "\u001b[0;31m---------------------------------------------------------------------------\u001b[0m",
      "\u001b[0;31mTypingError\u001b[0m                               Traceback (most recent call last)",
      "\u001b[0;32m<timed eval>\u001b[0m in \u001b[0;36m<module>\u001b[0;34m\u001b[0m\n",
      "\u001b[0;32m~/.pyenv/versions/3.7.7/lib/python3.7/site-packages/numba/core/dispatcher.py\u001b[0m in \u001b[0;36m_compile_for_args\u001b[0;34m(self, *args, **kws)\u001b[0m\n\u001b[1;32m    413\u001b[0m                 \u001b[0me\u001b[0m\u001b[0;34m.\u001b[0m\u001b[0mpatch_message\u001b[0m\u001b[0;34m(\u001b[0m\u001b[0mmsg\u001b[0m\u001b[0;34m)\u001b[0m\u001b[0;34m\u001b[0m\u001b[0;34m\u001b[0m\u001b[0m\n\u001b[1;32m    414\u001b[0m \u001b[0;34m\u001b[0m\u001b[0m\n\u001b[0;32m--> 415\u001b[0;31m             \u001b[0merror_rewrite\u001b[0m\u001b[0;34m(\u001b[0m\u001b[0me\u001b[0m\u001b[0;34m,\u001b[0m \u001b[0;34m'typing'\u001b[0m\u001b[0;34m)\u001b[0m\u001b[0;34m\u001b[0m\u001b[0;34m\u001b[0m\u001b[0m\n\u001b[0m\u001b[1;32m    416\u001b[0m         \u001b[0;32mexcept\u001b[0m \u001b[0merrors\u001b[0m\u001b[0;34m.\u001b[0m\u001b[0mUnsupportedError\u001b[0m \u001b[0;32mas\u001b[0m \u001b[0me\u001b[0m\u001b[0;34m:\u001b[0m\u001b[0;34m\u001b[0m\u001b[0;34m\u001b[0m\u001b[0m\n\u001b[1;32m    417\u001b[0m             \u001b[0;31m# Something unsupported is present in the user code, add help info\u001b[0m\u001b[0;34m\u001b[0m\u001b[0;34m\u001b[0m\u001b[0;34m\u001b[0m\u001b[0m\n",
      "\u001b[0;32m~/.pyenv/versions/3.7.7/lib/python3.7/site-packages/numba/core/dispatcher.py\u001b[0m in \u001b[0;36merror_rewrite\u001b[0;34m(e, issue_type)\u001b[0m\n\u001b[1;32m    356\u001b[0m                 \u001b[0;32mraise\u001b[0m \u001b[0me\u001b[0m\u001b[0;34m\u001b[0m\u001b[0;34m\u001b[0m\u001b[0m\n\u001b[1;32m    357\u001b[0m             \u001b[0;32melse\u001b[0m\u001b[0;34m:\u001b[0m\u001b[0;34m\u001b[0m\u001b[0;34m\u001b[0m\u001b[0m\n\u001b[0;32m--> 358\u001b[0;31m                 \u001b[0mreraise\u001b[0m\u001b[0;34m(\u001b[0m\u001b[0mtype\u001b[0m\u001b[0;34m(\u001b[0m\u001b[0me\u001b[0m\u001b[0;34m)\u001b[0m\u001b[0;34m,\u001b[0m \u001b[0me\u001b[0m\u001b[0;34m,\u001b[0m \u001b[0;32mNone\u001b[0m\u001b[0;34m)\u001b[0m\u001b[0;34m\u001b[0m\u001b[0;34m\u001b[0m\u001b[0m\n\u001b[0m\u001b[1;32m    359\u001b[0m \u001b[0;34m\u001b[0m\u001b[0m\n\u001b[1;32m    360\u001b[0m         \u001b[0margtypes\u001b[0m \u001b[0;34m=\u001b[0m \u001b[0;34m[\u001b[0m\u001b[0;34m]\u001b[0m\u001b[0;34m\u001b[0m\u001b[0;34m\u001b[0m\u001b[0m\n",
      "\u001b[0;32m~/.pyenv/versions/3.7.7/lib/python3.7/site-packages/numba/core/utils.py\u001b[0m in \u001b[0;36mreraise\u001b[0;34m(tp, value, tb)\u001b[0m\n\u001b[1;32m     78\u001b[0m         \u001b[0mvalue\u001b[0m \u001b[0;34m=\u001b[0m \u001b[0mtp\u001b[0m\u001b[0;34m(\u001b[0m\u001b[0;34m)\u001b[0m\u001b[0;34m\u001b[0m\u001b[0;34m\u001b[0m\u001b[0m\n\u001b[1;32m     79\u001b[0m     \u001b[0;32mif\u001b[0m \u001b[0mvalue\u001b[0m\u001b[0;34m.\u001b[0m\u001b[0m__traceback__\u001b[0m \u001b[0;32mis\u001b[0m \u001b[0;32mnot\u001b[0m \u001b[0mtb\u001b[0m\u001b[0;34m:\u001b[0m\u001b[0;34m\u001b[0m\u001b[0;34m\u001b[0m\u001b[0m\n\u001b[0;32m---> 80\u001b[0;31m         \u001b[0;32mraise\u001b[0m \u001b[0mvalue\u001b[0m\u001b[0;34m.\u001b[0m\u001b[0mwith_traceback\u001b[0m\u001b[0;34m(\u001b[0m\u001b[0mtb\u001b[0m\u001b[0;34m)\u001b[0m\u001b[0;34m\u001b[0m\u001b[0;34m\u001b[0m\u001b[0m\n\u001b[0m\u001b[1;32m     81\u001b[0m     \u001b[0;32mraise\u001b[0m \u001b[0mvalue\u001b[0m\u001b[0;34m\u001b[0m\u001b[0;34m\u001b[0m\u001b[0m\n\u001b[1;32m     82\u001b[0m \u001b[0;34m\u001b[0m\u001b[0m\n",
      "\u001b[0;31mTypingError\u001b[0m: Failed in nopython mode pipeline (step: nopython frontend)\nFailed in nopython mode pipeline (step: nopython frontend)\nFailed in nopython mode pipeline (step: nopython frontend)\nNo implementation of function Function(<function kron at 0x1059ffc20>) found for signature:\n \n >>> kron(array(complex128, 2d, A), array(complex128, 2d, C))\n \nThere are 2 candidate implementations:\n   - Of which 2 did not match due to:\n   Overload in function 'kron_impl': File: numba/np/linalg.py: Line 2729.\n     With argument(s): '(array(complex128, 2d, A), array(complex128, 2d, C))':\n    Rejected as the implementation raised a specific error:\n      TypingError: np.linalg.kron only supports 'C' or 'F' layout input arrays. Receieved an input of layout 'A'.\n  raised from /Users/pauldruce/.pyenv/versions/3.7.7/lib/python3.7/site-packages/numba/np/linalg.py:2672\n\nDuring: resolving callee type: Function(<function kron at 0x1059ffc20>)\nDuring: typing of call at /Users/pauldruce/Documents/GitHub/RandomNCGinPython/numba_DiracOperator.py (89)\n\n\nFile \"numba_DiracOperator.py\", line 89:\ndef random_Dirac_op(odd_products, N, weightA, matdim):\n    <source elided>\n            Dtemp = comm(step_size * complex(0, 1) * temp)\n        Dtemp2 = np.kron(prod, Dtemp)\n        ^\n\nDuring: resolving callee type: type(CPUDispatcher(<function random_Dirac_op at 0x11f9df560>))\nDuring: typing of call at /Users/pauldruce/Documents/GitHub/RandomNCGinPython/numba_DiracOperator.py (129)\n\nDuring: resolving callee type: type(CPUDispatcher(<function random_Dirac_op at 0x11f9df560>))\nDuring: typing of call at /Users/pauldruce/Documents/GitHub/RandomNCGinPython/numba_DiracOperator.py (129)\n\n\nFile \"numba_DiracOperator.py\", line 129:\ndef update_Dirac(old_D, g2, g4, weightA, acceptance_rate, N, matdim, odd_products):\n    <source elided>\n    S_old = action(old_D, g2, g4)\n    D = random_Dirac_op(odd_products, N, weightA, matdim)\n    ^\n\nDuring: resolving callee type: type(CPUDispatcher(<function update_Dirac at 0x11f9dfb00>))\nDuring: typing of call at <ipython-input-4-6fb846ab0e05> (35)\n\nDuring: resolving callee type: type(CPUDispatcher(<function update_Dirac at 0x11f9dfb00>))\nDuring: typing of call at <ipython-input-4-6fb846ab0e05> (35)\n\nDuring: resolving callee type: type(CPUDispatcher(<function update_Dirac at 0x11f9dfb00>))\nDuring: typing of call at <ipython-input-4-6fb846ab0e05> (35)\n\nDuring: resolving callee type: type(CPUDispatcher(<function update_Dirac at 0x11f9dfb00>))\nDuring: typing of call at <ipython-input-4-6fb846ab0e05> (35)\n\n\nFile \"<ipython-input-4-6fb846ab0e05>\", line 35:\ndef numba_runMonteCarlo(odd_products, D, g2, g4, matdim):\n    <source elided>\n            D, acceptance_rate = numba_DiracOperator.update_Dirac(\n                D, g2, g4, weightA, acceptance_rate, N, matdim, odd_products)\n                ^\n"
     ]
    }
   ],
   "source": [
    "# Test it works and see how long it takes\n",
    "\n",
    "%time numba_runMonteCarlo(odd_products, D, g2, g4, matdim)"
   ]
  },
  {
   "cell_type": "code",
   "execution_count": 4,
   "metadata": {},
   "outputs": [
    {
     "name": "stdout",
     "output_type": "stream",
     "text": [
      "867 1000 0.867\n",
      "-151.53029253649206\n",
      "1738 2000 0.869\n",
      "-236.32358421850307\n",
      "2561 3000 0.8536666666666667\n",
      "-308.8966218233402\n",
      "3420 4000 0.855\n",
      "-334.21671711011237\n",
      "4313 5000 0.8626\n",
      "-336.78205153244784\n",
      "5204 6000 0.8673333333333333\n",
      "-339.2146358697222\n",
      "6111 7000 0.873\n",
      "-337.9076429029567\n",
      "6988 8000 0.8735\n",
      "-329.5990929038716\n",
      "7870 9000 0.8744444444444445\n",
      "-334.3759285810087\n",
      "8755 10000 0.8755\n",
      "-338.4953815775131\n",
      " "
     ]
    },
    {
     "data": {
      "text/plain": [
       "         13791394 function calls (12991394 primitive calls) in 33.946 seconds\n",
       "\n",
       "   Ordered by: internal time\n",
       "\n",
       "   ncalls  tottime  percall  cumtime  percall filename:lineno(function)\n",
       "1220040/420040    8.007    0.000   23.774    0.000 {built-in method numpy.core._multiarray_umath.implement_array_function}\n",
       "   240000    5.243    0.000    5.997    0.000 numeric.py:824(outer)\n",
       "    10000    2.599    0.000   30.639    0.003 DiracOperator.py:68(random_Dirac_op)\n",
       "   240000    2.590    0.000   21.126    0.000 shape_base.py:1067(kron)\n",
       "    20010    1.906    0.000    2.701    0.000 DiracOperator.py:93(action)\n",
       "    80000    1.327    0.000    2.110    0.000 DiracOperator.py:57(random_Hermitian)\n",
       "   160000    0.819    0.000    1.167    0.000 twodim_base.py:152(eye)\n",
       "   480000    0.801    0.000    2.128    0.000 {built-in method builtins.sorted}\n",
       "   100000    0.664    0.000    1.588    0.000 numeric.py:2317(array_equal)\n",
       "    60000    0.648    0.000   10.395    0.000 DiracOperator.py:42(anticomm)\n",
       "   160000    0.575    0.000    0.575    0.000 {method 'standard_normal' of 'numpy.random.mtrand.RandomState' objects}\n",
       "  1300020    0.570    0.000    0.570    0.000 {built-in method numpy.array}\n",
       "   100000    0.544    0.000    0.544    0.000 {method 'reduce' of 'numpy.ufunc' objects}\n",
       "   480000    0.539    0.000    7.861    0.000 <__array_function__ internals>:2(concatenate)\n",
       "   240000    0.533    0.000    1.797    0.000 shape_base.py:1038(get_array_prepare)\n",
       "   720000    0.507    0.000    0.757    0.000 shape_base.py:1043(<genexpr>)\n",
       "    10000    0.480    0.000   33.896    0.003 DiracOperator.py:120(update_Dirac)\n",
       "   170000    0.435    0.000    0.435    0.000 {built-in method numpy.zeros}\n",
       "   480000    0.422    0.000    0.422    0.000 {method 'ravel' of 'numpy.ndarray' objects}\n",
       "   180000    0.386    0.000    0.386    0.000 {method 'conj' of 'numpy.ndarray' objects}\n",
       "   720000    0.386    0.000    0.570    0.000 shape_base.py:1055(<genexpr>)\n",
       "   320000    0.375    0.000    0.375    0.000 {method 'reshape' of 'numpy.ndarray' objects}\n",
       "    40020    0.369    0.000    0.369    0.000 {method 'trace' of 'numpy.ndarray' objects}\n",
       "   780000    0.285    0.000    0.578    0.000 _asarray.py:14(asarray)\n",
       "   240000    0.284    0.000    1.147    0.000 shape_base.py:1050(get_array_wrap)\n",
       "   240000    0.252    0.000   21.706    0.000 <__array_function__ internals>:2(kron)\n",
       "  1040000    0.232    0.000    0.232    0.000 {built-in method builtins.getattr}\n",
       "   960000    0.229    0.000    0.229    0.000 {built-in method builtins.hasattr}\n",
       "   240000    0.225    0.000    6.501    0.000 <__array_function__ internals>:2(outer)\n",
       "    20000    0.217    0.000    3.443    0.000 DiracOperator.py:28(comm)\n",
       "   280020    0.126    0.000    0.285    0.000 _asarray.py:86(asanyarray)\n",
       "   100000    0.119    0.000    1.843    0.000 <__array_function__ internals>:2(array_equal)\n",
       "   480000    0.109    0.000    0.109    0.000 multiarray.py:143(concatenate)\n",
       "    80000    0.091    0.000    0.316    0.000 fromnumeric.py:199(reshape)\n",
       "    80000    0.085    0.000    0.225    0.000 fromnumeric.py:52(_wrapfunc)\n",
       "   100000    0.085    0.000    0.678    0.000 {method 'all' of 'numpy.ndarray' objects}\n",
       "    10000    0.084    0.000    0.084    0.000 {method 'normal' of 'numpy.random.mtrand.RandomState' objects}\n",
       "    10000    0.083    0.000    0.083    0.000 {method 'uniform' of 'numpy.random.mtrand.RandomState' objects}\n",
       "    40020    0.079    0.000    0.512    0.000 fromnumeric.py:1637(trace)\n",
       "    80000    0.075    0.000    0.475    0.000 <__array_function__ internals>:2(reshape)\n",
       "   240000    0.072    0.000    0.072    0.000 {method '__array_prepare__' of 'numpy.ndarray' objects}\n",
       "   240000    0.062    0.000    0.062    0.000 {method '__array_wrap__' of 'numpy.ndarray' objects}\n",
       "   240000    0.061    0.000    0.061    0.000 numeric.py:820(_outer_dispatcher)\n",
       "   240000    0.060    0.000    0.060    0.000 shape_base.py:1063(_kron_dispatcher)\n",
       "    40020    0.050    0.000    0.616    0.000 <__array_function__ internals>:2(trace)\n",
       "   100000    0.048    0.000    0.593    0.000 _methods.py:56(_all)\n",
       "        1    0.039    0.039   33.946   33.946 <ipython-input-2-9793c24c51fb>:9(runMonteCarlo)\n",
       "   100000    0.029    0.000    0.029    0.000 numeric.py:2313(_array_equal_dispatcher)\n",
       "    80000    0.021    0.000    0.021    0.000 fromnumeric.py:194(_reshape_dispatcher)\n",
       "    20010    0.021    0.000    0.107    0.000 <__array_function__ internals>:2(imag)\n",
       "    40100    0.020    0.000    0.020    0.000 {built-in method builtins.isinstance}\n",
       "    20010    0.018    0.000    0.018    0.000 type_check.py:167(imag)\n",
       "    20010    0.018    0.000    0.071    0.000 <__array_function__ internals>:2(real)\n",
       "    20010    0.018    0.000    0.018    0.000 type_check.py:121(real)\n",
       "    40020    0.012    0.000    0.012    0.000 fromnumeric.py:1632(_trace_dispatcher)\n",
       "    20010    0.006    0.000    0.006    0.000 type_check.py:163(_imag_dispatcher)\n",
       "    20010    0.005    0.000    0.005    0.000 type_check.py:117(_real_dispatcher)\n",
       "       90    0.002    0.000    0.002    0.000 socket.py:342(send)\n",
       "       80    0.000    0.000    0.003    0.000 iostream.py:386(write)\n",
       "       90    0.000    0.000    0.002    0.000 iostream.py:197(schedule)\n",
       "       20    0.000    0.000    0.003    0.000 {built-in method builtins.print}\n",
       "       90    0.000    0.000    0.000    0.000 threading.py:1092(is_alive)\n",
       "       80    0.000    0.000    0.000    0.000 iostream.py:310(_is_master_process)\n",
       "       90    0.000    0.000    0.000    0.000 {method 'acquire' of '_thread.lock' objects}\n",
       "       80    0.000    0.000    0.000    0.000 iostream.py:323(_schedule_flush)\n",
       "       90    0.000    0.000    0.000    0.000 threading.py:1050(_wait_for_tstate_lock)\n",
       "       90    0.000    0.000    0.000    0.000 iostream.py:93(_event_pipe)\n",
       "        1    0.000    0.000   33.946   33.946 {built-in method builtins.exec}\n",
       "       90    0.000    0.000    0.000    0.000 threading.py:507(is_set)\n",
       "       80    0.000    0.000    0.000    0.000 {built-in method posix.getpid}\n",
       "       90    0.000    0.000    0.000    0.000 {method 'append' of 'collections.deque' objects}\n",
       "        1    0.000    0.000   33.946   33.946 <string>:1(<module>)\n",
       "        1    0.000    0.000    0.000    0.000 {method 'disable' of '_lsprof.Profiler' objects}"
      ]
     },
     "metadata": {},
     "output_type": "display_data"
    }
   ],
   "source": [
    "# Profile it\n",
    "%prun runMonteCarlo(odd_products, D, g2, g4, matdim)"
   ]
  },
  {
   "cell_type": "code",
   "execution_count": 8,
   "metadata": {},
   "outputs": [],
   "source": [
    "%load_ext line_profiler"
   ]
  },
  {
   "cell_type": "code",
   "execution_count": 11,
   "metadata": {},
   "outputs": [
    {
     "name": "stdout",
     "output_type": "stream",
     "text": [
      "821 1000 0.821\n",
      "-282.2733852259223\n",
      "1708 2000 0.854\n",
      "-335.4615902727121\n",
      "2598 3000 0.866\n",
      "-334.53251904087597\n",
      "3502 4000 0.8755\n",
      "-339.78751494096366\n",
      "4402 5000 0.8804\n",
      "-339.9971988078137\n",
      "5308 6000 0.8846666666666667\n",
      "-336.1104997663529\n",
      "6203 7000 0.8861428571428571\n",
      "-337.0768581853198\n",
      "7104 8000 0.888\n",
      "-331.40436871663553\n",
      "8025 9000 0.8916666666666667\n",
      "-335.81635970418597\n",
      "8938 10000 0.8938\n",
      "-341.2391831535927\n"
     ]
    },
    {
     "data": {
      "text/plain": [
       "Timer unit: 1e-06 s\n",
       "\n",
       "Total time: 0 s\n",
       "File: /Users/pauldruce/Documents/GitHub/RandomNCGinPython/DiracOperator.py\n",
       "Function: update_Dirac at line 119\n",
       "\n",
       "Line #      Hits         Time  Per Hit   % Time  Line Contents\n",
       "==============================================================\n",
       "   119                                           @njit(fastmath=True)\n",
       "   120                                           def update_Dirac(old_D, g2, g4, weightA, acceptance_rate, N, matdim, odd_products):\n",
       "   121                                               \"\"\" Updates the Dirac operator according to the Metropolis-Hastings algorithm\n",
       "   122                                           \n",
       "   123                                               This function inputs the old Dirac operator, the action coupling constants, weightA which dictates the steps size between the old and new Dirac operators, and a variable to calculate the acceptance_rate. This function could be done smoother I'm sure. But it seems to work.\n",
       "   124                                           \n",
       "   125                                               \"\"\"\n",
       "   126                                               S_old = action(old_D, g2, g4)\n",
       "   127                                               D = random_Dirac_op(odd_products, N, weightA, matdim)\n",
       "   128                                               S_new = action(old_D + D, g2, g4)\n",
       "   129                                               # I think of rand_press as the random pressure which pushes you out of sufficiently small local minima.\n",
       "   130                                               rand_press = np.exp(S_old - S_new)\n",
       "   131                                               # p is the random value between 0 and 1 used in Metropolis-Hastings algorithm\n",
       "   132                                               p = np.random.uniform(0, 1)\n",
       "   133                                           \n",
       "   134                                               # This is my understanding of the Metropolis-Hastings algorithm\n",
       "   135                                               if S_new < S_old or rand_press > p:\n",
       "   136                                                   acceptance_rate = acceptance_rate + 1\n",
       "   137                                                   return old_D + D, acceptance_rate\n",
       "   138                                               else:\n",
       "   139                                                   return old_D, acceptance_rate"
      ]
     },
     "metadata": {},
     "output_type": "display_data"
    }
   ],
   "source": [
    "# Profile it\n",
    " runMonteCarlo(odd_products, D, g2, g4, matdim)"
   ]
  },
  {
   "cell_type": "code",
   "execution_count": null,
   "metadata": {},
   "outputs": [],
   "source": []
  }
 ],
 "metadata": {
  "kernelspec": {
   "display_name": "Python 3",
   "language": "python",
   "name": "python3"
  },
  "language_info": {
   "codemirror_mode": {
    "name": "ipython",
    "version": 3
   },
   "file_extension": ".py",
   "mimetype": "text/x-python",
   "name": "python",
   "nbconvert_exporter": "python",
   "pygments_lexer": "ipython3",
   "version": "3.8.6"
  }
 },
 "nbformat": 4,
 "nbformat_minor": 4
}

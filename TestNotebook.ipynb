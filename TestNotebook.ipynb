{
 "cells": [
  {
   "cell_type": "code",
   "execution_count": 1,
   "metadata": {},
   "outputs": [
    {
     "name": "stdout",
     "output_type": "stream",
     "text": [
      "My type is: (3,1)\n",
      "\n",
      "My matrices will be 4x4, and I have K0 dimension s = 6\n",
      "The generators are:\n",
      "Gamma_1 = \n",
      "[[ 1.+0.j  0.+0.j  0.+0.j  0.+0.j]\n",
      " [ 0.+0.j  1.+0.j  0.+0.j  0.+0.j]\n",
      " [ 0.+0.j  0.+0.j -1.+0.j -0.+0.j]\n",
      " [ 0.+0.j  0.+0.j -0.+0.j -1.+0.j]]\n",
      "Gamma_2 = \n",
      "[[0.+0.j 0.+0.j 1.+0.j 0.+0.j]\n",
      " [0.+0.j 0.+0.j 0.+0.j 1.+0.j]\n",
      " [1.+0.j 0.+0.j 0.+0.j 0.+0.j]\n",
      " [0.+0.j 1.+0.j 0.+0.j 0.+0.j]]\n",
      "Gamma_3 = \n",
      "[[ 0.+0.j  0.+0.j  0.+1.j  0.+0.j]\n",
      " [ 0.+0.j -0.+0.j  0.+0.j -0.-1.j]\n",
      " [ 0.-1.j  0.+0.j  0.+0.j  0.+0.j]\n",
      " [ 0.+0.j  0.+1.j  0.+0.j -0.+0.j]]\n",
      "Gamma_4 = \n",
      "[[ 0.+0.j  0.+0.j  0.+0.j  0.+1.j]\n",
      " [-0.+0.j  0.+0.j -0.-1.j  0.+0.j]\n",
      " [ 0.+0.j  0.-1.j  0.+0.j  0.+0.j]\n",
      " [ 0.+1.j  0.+0.j -0.+0.j  0.+0.j]]\n",
      "\n",
      "\n",
      "The chirality operator is:\n",
      "[[0.+0.j 0.+0.j 0.+0.j 0.+1.j]\n",
      " [0.+0.j 0.+0.j 0.+1.j 0.+0.j]\n",
      " [0.+0.j 0.-1.j 0.+0.j 0.+0.j]\n",
      " [0.-1.j 0.+0.j 0.+0.j 0.+0.j]]\n"
     ]
    }
   ],
   "source": [
    "import itertools\n",
    "import time\n",
    "from CliffordAlgebras import Clifford\n",
    "import DiracOperator\n",
    "import numpy as np\n",
    "from numba import njit\n",
    "# Some dummy parameters for use when testing:\n",
    "p = 3\n",
    "q = 1\n",
    "N = 5\n",
    "g2 = -3.7\n",
    "g4 = 1\n",
    "# Get the clifford algebra for the model we are examining.\n",
    "cliff = Clifford(p, q)\n",
    "cliff.introduce()\n",
    "odd_products = cliff.get_odd_gamma_products()"
   ]
  },
  {
   "cell_type": "markdown",
   "metadata": {},
   "source": [
    "There are some import hyperparameters for the Metropolis-Hastings algorithm. Specifically,\n",
    "in our implementation, the variable weightA is important, which is the step size between Dirac operators.\n",
    "WeightA to be very small, so that the steps between Diracs is relatively small. There is a balance between having a small enough step size so that many Diracs are accepted and we \"follow the valley downwards\" and having a large enough step size so that we can escape local minima.\n",
    "\n",
    "This value will change for each type, it seems to be a hyperparameter of this setup, i.e. requires tuning. weightA values for the types that give acceptance_rate/num_moves ~50% (this is what I understand to be a good thing to achieve)\n",
    "\n",
    "(2,0) -> 1./np.power(cliff.matdim,3)/25\n",
    "(1,3) -> 1./e-2/6 for size 10x10 - takes 30mins to do 40,000 moves."
   ]
  },
  {
   "cell_type": "code",
   "execution_count": 2,
   "metadata": {},
   "outputs": [
    {
     "name": "stderr",
     "output_type": "stream",
     "text": [
      "/Users/pauldruce/.pyenv/versions/3.7.7/lib/python3.7/site-packages/numba/core/ir_utils.py:2031: NumbaPendingDeprecationWarning: \n",
      "Encountered the use of a type that is scheduled for deprecation: type 'reflected list' found for argument 'odd_products' of function 'random_Dirac_op'.\n",
      "\n",
      "For more information visit http://numba.pydata.org/numba-doc/latest/reference/deprecation.html#deprecation-of-reflection-for-list-and-set-types\n",
      "\n",
      "File \"DiracOperator.py\", line 68:\n",
      "@njit(parallel=True, fastmath=True)\n",
      "def random_Dirac_op(odd_products, N, weightA, matdim):\n",
      "^\n",
      "\n",
      "  warnings.warn(NumbaPendingDeprecationWarning(msg, loc=loc))\n"
     ]
    }
   ],
   "source": [
    "# Initialise D: we set the weight A so we start with a much wide range of the parameter space\n",
    "\n",
    "weightA = 1 / 10  # If we use too large a value here, then the proposed starting Dirac causes the weight action to have a large imaginary component. So start with it ~1\n",
    "matdim = cliff.matdim\n",
    "D = DiracOperator.random_Dirac_op(odd_products, N, weightA, cliff.matdim)\n",
    "# D = D1\n",
    "\n",
    "\n",
    "@njit(fastmath=True)\n",
    "def runMonteCarlo(odd_products, D, g2, g4, matdim):\n",
    "    weightA = 1e-2 / 7\n",
    "    num_moves = 0\n",
    "    acceptance_rate = 0\n",
    "    epochs = 10\n",
    "    chain_length = 1000\n",
    "    for i in range(epochs):\n",
    "        for j in range(chain_length):\n",
    "            D, acceptance_rate = DiracOperator.update_Dirac(\n",
    "                D, g2, g4, weightA, acceptance_rate, N, matdim, odd_products)\n",
    "            num_moves += 1\n",
    "        # Every 1000s steps, we investigate a little. We print the accepted rate and the action of the Dirac at this moment.\n",
    "        print(acceptance_rate, num_moves, acceptance_rate / num_moves)\n",
    "        print(DiracOperator.action(D, g2, g4))\n",
    "        # np.linalg.eigvals(D)\n",
    "\n",
    "\n",
    "\"\"\"\n",
    "It would be helpful to store the last Dirac, so we can \"continue\" the simulation after it reaches 20,0000 steps. For instance, for the type (1,3), 20,000 steps doesnt seem to be enough. 40,0000 seems to settle in a well.\n",
    "But to have the thermalisation time be ~1%, then we need to continue the simulation for much longer than that.\n",
    "\"\"\"\n",
    "\n",
    "# We can then \"initialise\" the Dirac with the last Dirac operator from the simulation if we want to continnue the simulation.\n",
    "D1 = D\n"
   ]
  },
  {
   "cell_type": "code",
   "execution_count": 4,
   "metadata": {},
   "outputs": [
    {
     "name": "stdout",
     "output_type": "stream",
     "text": [
      "821 1000 0.821\n",
      "-267.91866037156103\n",
      "1699 2000 0.8495\n",
      "-336.45639118100274\n",
      "2605 3000 0.8683333333333333\n",
      "-338.1316828846166\n",
      "3497 4000 0.87425\n",
      "-339.52940358698083\n",
      "4395 5000 0.879\n",
      "-337.1645506570599\n",
      "5294 6000 0.8823333333333333\n",
      "-333.8895190410342\n",
      "6190 7000 0.8842857142857142\n",
      "-337.11480113392366\n",
      "7092 8000 0.8865\n",
      "-336.6917042666361\n",
      "8007 9000 0.8896666666666667\n",
      "-339.04337187372477\n",
      "8923 10000 0.8923\n",
      "-340.12742224370646\n",
      "CPU times: user 46.8 s, sys: 1min 11s, total: 1min 58s\n",
      "Wall time: 52.3 s\n"
     ]
    }
   ],
   "source": [
    "# Test it works and see how long it takes\n",
    "\n",
    "%time runMonteCarlo(odd_products, D, g2, g4, matdim)"
   ]
  },
  {
   "cell_type": "code",
   "execution_count": 5,
   "metadata": {},
   "outputs": [
    {
     "name": "stdout",
     "output_type": "stream",
     "text": [
      "848 1000 0.848\n",
      "-301.65457214156334\n",
      "1732 2000 0.866\n",
      "-329.41753439701637\n",
      "2637 3000 0.879\n",
      "-338.66568206215635\n",
      "3552 4000 0.888\n",
      "-339.7451559117835\n",
      "4462 5000 0.8924\n",
      "-337.58570969856345\n",
      "5365 6000 0.8941666666666667\n",
      "-338.1063277385116\n",
      "6272 7000 0.896\n",
      "-334.6568717931576\n",
      "7180 8000 0.8975\n",
      "-335.3128305116874\n",
      "8086 9000 0.8984444444444445\n",
      "-339.368422899226\n",
      "9003 10000 0.9003\n",
      "-340.71479422712184\n",
      " "
     ]
    },
    {
     "data": {
      "text/plain": [
       "         1484 function calls (1466 primitive calls) in 52.243 seconds\n",
       "\n",
       "   Ordered by: internal time\n",
       "\n",
       "   ncalls  tottime  percall  cumtime  percall filename:lineno(function)\n",
       "        1   52.240   52.240   52.243   52.243 <ipython-input-2-5eba9ae8b0e9>:9(runMonteCarlo)\n",
       "       90    0.001    0.000    0.001    0.000 socket.py:342(send)\n",
       "       80    0.000    0.000    0.003    0.000 iostream.py:386(write)\n",
       "       90    0.000    0.000    0.002    0.000 iostream.py:197(schedule)\n",
       "       90    0.000    0.000    0.000    0.000 threading.py:1092(is_alive)\n",
       "       80    0.000    0.000    0.000    0.000 iostream.py:310(_is_master_process)\n",
       "       90    0.000    0.000    0.000    0.000 {method 'acquire' of '_thread.lock' objects}\n",
       "       80    0.000    0.000    0.000    0.000 iostream.py:323(_schedule_flush)\n",
       "       90    0.000    0.000    0.000    0.000 threading.py:1050(_wait_for_tstate_lock)\n",
       "       90    0.000    0.000    0.000    0.000 iostream.py:93(_event_pipe)\n",
       "        9    0.000    0.000    0.000    0.000 common.py:48(__init__)\n",
       "        1    0.000    0.000   52.243   52.243 {built-in method builtins.exec}\n",
       "       98    0.000    0.000    0.000    0.000 {built-in method builtins.isinstance}\n",
       "        9    0.000    0.000    0.000    0.000 npytypes.py:397(__init__)\n",
       "        9    0.000    0.000    0.000    0.000 typeof.py:214(_typeof_ndarray)\n",
       "       80    0.000    0.000    0.000    0.000 {built-in method posix.getpid}\n",
       "        9    0.000    0.000    0.000    0.000 abstract.py:59(__call__)\n",
       "       90    0.000    0.000    0.000    0.000 {method 'append' of 'collections.deque' objects}\n",
       "       27    0.000    0.000    0.000    0.000 npytypes.py:432(key)\n",
       "       90    0.000    0.000    0.000    0.000 threading.py:507(is_set)\n",
       "        9    0.000    0.000    0.000    0.000 typeof.py:23(typeof)\n",
       "        1    0.000    0.000   52.243   52.243 <string>:1(<module>)\n",
       "        9    0.000    0.000    0.000    0.000 {method 'get' of 'dict' objects}\n",
       "       18    0.000    0.000    0.000    0.000 {built-in method builtins.hasattr}\n",
       "     18/9    0.000    0.000    0.000    0.000 abstract.py:117(__hash__)\n",
       "       18    0.000    0.000    0.000    0.000 {built-in method _abc._abc_instancecheck}\n",
       "        9    0.000    0.000    0.000    0.000 abstract.py:47(_intern)\n",
       "        9    0.000    0.000    0.000    0.000 numpy_support.py:84(from_dtype)\n",
       "     18/9    0.000    0.000    0.000    0.000 {built-in method builtins.hash}\n",
       "        9    0.000    0.000    0.000    0.000 abstract.py:120(__eq__)\n",
       "        9    0.000    0.000    0.000    0.000 <frozen importlib._bootstrap>:416(parent)\n",
       "        9    0.000    0.000    0.000    0.000 functools.py:835(wrapper)\n",
       "        9    0.000    0.000    0.000    0.000 weakref.py:395(__getitem__)\n",
       "        9    0.000    0.000    0.000    0.000 <frozen importlib._bootstrap>:1009(_handle_fromlist)\n",
       "       18    0.000    0.000    0.000    0.000 abc.py:137(__instancecheck__)\n",
       "        9    0.000    0.000    0.000    0.000 functools.py:781(dispatch)\n",
       "        9    0.000    0.000    0.000    0.000 numpy_support.py:214(map_layout)\n",
       "        9    0.000    0.000    0.000    0.000 <string>:1(__new__)\n",
       "        9    0.000    0.000    0.000    0.000 {built-in method __new__ of type object at 0x10c46e460}\n",
       "       18    0.000    0.000    0.000    0.000 {built-in method builtins.getattr}\n",
       "        9    0.000    0.000    0.000    0.000 misc.py:47(unliteral)\n",
       "        9    0.000    0.000    0.000    0.000 {built-in method _abc.get_cache_token}\n",
       "        9    0.000    0.000    0.000    0.000 abstract.py:92(__init__)\n",
       "        9    0.000    0.000    0.000    0.000 abstract.py:114(__repr__)\n",
       "        9    0.000    0.000    0.000    0.000 {method 'rpartition' of 'str' objects}\n",
       "        9    0.000    0.000    0.000    0.000 abstract.py:95(key)\n",
       "        1    0.000    0.000    0.000    0.000 {method 'disable' of '_lsprof.Profiler' objects}"
      ]
     },
     "metadata": {},
     "output_type": "display_data"
    }
   ],
   "source": [
    "# Profile it\n",
    "%prun runMonteCarlo(odd_products, D, g2, g4, matdim)"
   ]
  },
  {
   "cell_type": "code",
   "execution_count": 8,
   "metadata": {},
   "outputs": [],
   "source": [
    "%load_ext line_profiler"
   ]
  },
  {
   "cell_type": "code",
   "execution_count": 11,
   "metadata": {},
   "outputs": [
    {
     "name": "stdout",
     "output_type": "stream",
     "text": [
      "821 1000 0.821\n",
      "-282.2733852259223\n",
      "1708 2000 0.854\n",
      "-335.4615902727121\n",
      "2598 3000 0.866\n",
      "-334.53251904087597\n",
      "3502 4000 0.8755\n",
      "-339.78751494096366\n",
      "4402 5000 0.8804\n",
      "-339.9971988078137\n",
      "5308 6000 0.8846666666666667\n",
      "-336.1104997663529\n",
      "6203 7000 0.8861428571428571\n",
      "-337.0768581853198\n",
      "7104 8000 0.888\n",
      "-331.40436871663553\n",
      "8025 9000 0.8916666666666667\n",
      "-335.81635970418597\n",
      "8938 10000 0.8938\n",
      "-341.2391831535927\n"
     ]
    },
    {
     "data": {
      "text/plain": [
       "Timer unit: 1e-06 s\n",
       "\n",
       "Total time: 0 s\n",
       "File: /Users/pauldruce/Documents/GitHub/RandomNCGinPython/DiracOperator.py\n",
       "Function: update_Dirac at line 119\n",
       "\n",
       "Line #      Hits         Time  Per Hit   % Time  Line Contents\n",
       "==============================================================\n",
       "   119                                           @njit(fastmath=True)\n",
       "   120                                           def update_Dirac(old_D, g2, g4, weightA, acceptance_rate, N, matdim, odd_products):\n",
       "   121                                               \"\"\" Updates the Dirac operator according to the Metropolis-Hastings algorithm\n",
       "   122                                           \n",
       "   123                                               This function inputs the old Dirac operator, the action coupling constants, weightA which dictates the steps size between the old and new Dirac operators, and a variable to calculate the acceptance_rate. This function could be done smoother I'm sure. But it seems to work.\n",
       "   124                                           \n",
       "   125                                               \"\"\"\n",
       "   126                                               S_old = action(old_D, g2, g4)\n",
       "   127                                               D = random_Dirac_op(odd_products, N, weightA, matdim)\n",
       "   128                                               S_new = action(old_D + D, g2, g4)\n",
       "   129                                               # I think of rand_press as the random pressure which pushes you out of sufficiently small local minima.\n",
       "   130                                               rand_press = np.exp(S_old - S_new)\n",
       "   131                                               # p is the random value between 0 and 1 used in Metropolis-Hastings algorithm\n",
       "   132                                               p = np.random.uniform(0, 1)\n",
       "   133                                           \n",
       "   134                                               # This is my understanding of the Metropolis-Hastings algorithm\n",
       "   135                                               if S_new < S_old or rand_press > p:\n",
       "   136                                                   acceptance_rate = acceptance_rate + 1\n",
       "   137                                                   return old_D + D, acceptance_rate\n",
       "   138                                               else:\n",
       "   139                                                   return old_D, acceptance_rate"
      ]
     },
     "metadata": {},
     "output_type": "display_data"
    }
   ],
   "source": [
    "# Profile it\n",
    " runMonteCarlo(odd_products, D, g2, g4, matdim)"
   ]
  },
  {
   "cell_type": "code",
   "execution_count": null,
   "metadata": {},
   "outputs": [],
   "source": []
  }
 ],
 "metadata": {
  "kernelspec": {
   "display_name": "Python 3",
   "language": "python",
   "name": "python3"
  },
  "language_info": {
   "codemirror_mode": {
    "name": "ipython",
    "version": 3
   },
   "file_extension": ".py",
   "mimetype": "text/x-python",
   "name": "python",
   "nbconvert_exporter": "python",
   "pygments_lexer": "ipython3",
   "version": "3.7.7"
  }
 },
 "nbformat": 4,
 "nbformat_minor": 4
}
